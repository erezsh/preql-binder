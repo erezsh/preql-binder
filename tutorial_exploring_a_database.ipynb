{
 "cells": [
  {
   "cell_type": "markdown",
   "metadata": {},
   "source": [
    "# Tutorial: Exploring a database with Preql\n",
    "\n",
    "This is a practical guide on how to use Preql to explore an existing database, using the Jupyter environment.\n",
    "\n",
    "Follow the code examples, and make sure to add your own cells and play around with the code."
   ]
  },
  {
   "cell_type": "markdown",
   "metadata": {},
   "source": [
    "## Connect to the database\n",
    "\n",
    "We tell Preql which database to use, by calling the `connect()` function with a URI.\n",
    "\n",
    "Since we are connecting for exploration, we will also tell it to load all the tables in the database into the global namespace.\n",
    "\n",
    "Make sure to adjust the path to the correct one!"
   ]
  },
  {
   "cell_type": "code",
   "execution_count": 1,
   "metadata": {},
   "outputs": [],
   "source": [
    "uri = \"sqlite:///chinook.db\"\n",
    "connect(uri, load_all_tables: true)"
   ]
  },
  {
   "cell_type": "markdown",
   "metadata": {},
   "source": [
    "If there was no error, it means everything went well.\n",
    "\n",
    "We can confirm by listing the tables in the database:"
   ]
  },
  {
   "cell_type": "code",
   "execution_count": 2,
   "metadata": {},
   "outputs": [],
   "source": [
    "tables()"
   ]
  },
  {
   "cell_type": "markdown",
   "metadata": {},
   "source": [
    "## Connecting Foreign Keys\n",
    "\n",
    "For now, we will focus on the `tracks` table. We can see in the preview that it contains foreign keys, and common-sense suggests that they relate to the tables `albums` and `genres`. "
   ]
  },
  {
   "cell_type": "code",
   "execution_count": 3,
   "metadata": {},
   "outputs": [],
   "source": [
    "tracks"
   ]
  },
  {
   "cell_type": "markdown",
   "metadata": {},
   "source": [
    "If we wanted, we could join them explicitely with code like \n",
    "\n",
    "```javascript\n",
    "join(t: tracks.AlbumId, a: albums.AlbumId)\n",
    "```\n",
    "\n",
    "However, we can make it more convenient, by re-declaring the tables with foreign keys.\n",
    "\n",
    "We'll manually declare the relevant columns, and use `...` to auto-declare the rest."
   ]
  },
  {
   "cell_type": "code",
   "execution_count": 4,
   "metadata": {},
   "outputs": [],
   "source": [
    "table albums {\n",
    "\tArtistId: artists.ArtistId\n",
    "\t...\n",
    "}\n",
    "\n",
    "table tracks {\n",
    "\tAlbumId: albums.AlbumId,\n",
    "\tGenreId: genres.GenreId\n",
    "\t...\n",
    "}\n"
   ]
  },
  {
   "cell_type": "markdown",
   "metadata": {},
   "source": [
    "Now, we can easily join the tables without having to specify on which columns.\n",
    "\n",
    "(Don't worry, if there was any ambiguity, Preql would throw an error rather than guess.)"
   ]
  },
  {
   "cell_type": "code",
   "execution_count": 5,
   "metadata": {},
   "outputs": [],
   "source": [
    "join(t: tracks, art: artists, alb: albums, g: genres)"
   ]
  },
  {
   "cell_type": "markdown",
   "metadata": {},
   "source": [
    "The call to `join()` above, creates four columns of structs, one for each table.\n",
    "\n",
    "For convenience, we might like to flatten those structs into a single table, and give it a name:"
   ]
  },
  {
   "cell_type": "code",
   "execution_count": 6,
   "metadata": {},
   "outputs": [],
   "source": [
    "tracks_joined = join(art: artists, alb: albums, t: tracks, g: genres) {\n",
    "\t...t !GenreId !AlbumId !TrackId\n",
    "\tArtist: art.Name\n",
    "\tAlbum: alb.Title\n",
    "\tGenre: g.Name\n",
    "}\n"
   ]
  },
  {
   "cell_type": "markdown",
   "metadata": {},
   "source": [
    "# Many-to-many\n",
    "\n",
    "Let's turn out attention to another table, called `playlist_track`.\n",
    "\n",
    "It serves as a way to connect the `tracks` table with the `playlists` table, which contains the name of the playlist."
   ]
  },
  {
   "cell_type": "code",
   "execution_count": 7,
   "metadata": {},
   "outputs": [],
   "source": [
    "playlist_track"
   ]
  },
  {
   "cell_type": "markdown",
   "metadata": {},
   "source": [
    "Let's write another declaration, to make our future joins simpler:"
   ]
  },
  {
   "cell_type": "code",
   "execution_count": 8,
   "metadata": {},
   "outputs": [],
   "source": [
    "table playlist_track {\n",
    "\tPlaylistId: playlists.PlaylistId\n",
    "\tTrackId: tracks.TrackId\n",
    "}"
   ]
  },
  {
   "cell_type": "markdown",
   "metadata": {},
   "source": [
    "Just for exploration's sake, let's see how many tracks each playlist has."
   ]
  },
  {
   "cell_type": "code",
   "execution_count": 9,
   "metadata": {},
   "outputs": [],
   "source": [
    "join(pt: playlist_track, p: playlists) {p.Name => count()}"
   ]
  },
  {
   "cell_type": "markdown",
   "metadata": {},
   "source": [
    "And let's create a new table of tracks, but this time we'll use the group-by operator (`=>`) to add a list of categories to each track: "
   ]
  },
  {
   "cell_type": "code",
   "execution_count": 10,
   "metadata": {},
   "outputs": [],
   "source": [
    "tracks_with_categories = join(t: tracks, pt: playlist_track, p: playlists) {\n",
    "    ...t => Categories: p.Name\n",
    "}"
   ]
  },
  {
   "cell_type": "markdown",
   "metadata": {},
   "source": [
    "## Exercise\n",
    "\n",
    "Write a query that joins all the following tables, and displays them in a single convenient table:\n",
    "\n",
    "- tracks\n",
    "- artists\n",
    "- albums\n",
    "- genres\n",
    "- playlists"
   ]
  },
  {
   "cell_type": "code",
   "execution_count": null,
   "metadata": {},
   "outputs": [],
   "source": []
  }
 ],
 "metadata": {
  "kernelspec": {
   "display_name": "Preql",
   "language": "preql",
   "name": "preql"
  },
  "language_info": {
   "file_extension": ".pql",
   "mimetype": "text/x-pql",
   "name": "Preql",
   "pygments_lexer": "go"
  }
 },
 "nbformat": 4,
 "nbformat_minor": 2
}